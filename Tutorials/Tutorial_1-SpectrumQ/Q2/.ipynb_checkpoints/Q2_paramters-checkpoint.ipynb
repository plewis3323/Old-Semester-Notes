{
 "cells": [
  {
   "cell_type": "code",
   "execution_count": 5,
   "id": "b729c625-9991-4ff8-b477-7cc74e5c1128",
   "metadata": {},
   "outputs": [
    {
     "name": "stdout",
     "output_type": "stream",
     "text": [
      "                               Variable         Value     Error\n",
      "0                             Slope (a)  3.279560e-01  0.000013\n",
      "1                         Intercept (b)  1.504940e+01  0.032046\n",
      "2                                  Chi2  8.312330e+01       NaN\n",
      "3                                   NDf  3.000000e+00       NaN\n",
      "4                                   Edm  6.099690e-12       NaN\n",
      "5                                NCalls  2.400000e+01       NaN\n",
      "6                                    p0  3.279560e-01  0.000013\n",
      "7                                    p1  1.504940e+01  0.032040\n",
      "8               Covariance Matrix (0,0)  1.716000e-10       NaN\n",
      "9               Covariance Matrix (0,1) -3.888000e-07       NaN\n",
      "10              Covariance Matrix (1,0) -3.888000e-07       NaN\n",
      "11              Covariance Matrix (1,1)  1.027000e-03       NaN\n",
      "12  Calibration error (Channel 3531.45)  2.053130e-02       NaN\n",
      "13  Calibration error (Channel 4016.93)  2.594320e-02       NaN\n",
      "14  Calibration error (Channel 1511.93)  1.560860e-02       NaN\n",
      "15  Calibration error (Channel 3840.33)  2.392060e-02       NaN\n",
      "16  Calibration error (Channel 1972.05)  1.268870e-02       NaN\n",
      "17   New Energy value (Channel 3531.45)  1.173210e+03       NaN\n",
      "18   New Energy value (Channel 4016.93)  1.332430e+03       NaN\n",
      "19   New Energy value (Channel 1511.93)  5.108970e+02       NaN\n",
      "20   New Energy value (Channel 3840.33)  1.274510e+03       NaN\n",
      "21   New Energy value (Channel 1972.05)  6.617960e+02       NaN\n"
     ]
    }
   ],
   "source": [
    "import pandas as pd\n",
    "import numpy as np\n",
    "\n",
    "# Recreate original data\n",
    "data = {\n",
    "    \"Variable\": [\"Slope (a)\", \"Intercept (b)\", \"Chi2\", \"NDf\", \"Edm\", \"NCalls\", \n",
    "                 \"p0\", \"p1\", \"Covariance Matrix (0,0)\", \"Covariance Matrix (0,1)\", \n",
    "                 \"Covariance Matrix (1,0)\", \"Covariance Matrix (1,1)\", \n",
    "                 \"Calibration error (Channel 3531.45)\", \"Calibration error (Channel 4016.93)\", \n",
    "                 \"Calibration error (Channel 1511.93)\", \"Calibration error (Channel 3840.33)\", \n",
    "                 \"Calibration error (Channel 1972.05)\", \"New Energy value (Channel 3531.45)\", \n",
    "                 \"New Energy value (Channel 4016.93)\", \"New Energy value (Channel 1511.93)\", \n",
    "                 \"New Energy value (Channel 3840.33)\", \"New Energy value (Channel 1972.05)\"],\n",
    "    \"Value\": [0.327956, 15.0494, 83.1233, 3, 6.09969e-12, 24, 0.327956, 15.0494, \n",
    "              1.716e-10, -3.888e-07, -3.888e-07, 0.001027, \n",
    "              0.0205313, 0.0259432, 0.0156086, 0.0239206, 0.0126887, \n",
    "              1173.21, 1332.43, 510.897, 1274.51, 661.796],\n",
    "    \"Error\": [1.31015e-05, 0.0320457, 1.30986e-05, 0.0320397]\n",
    "}\n",
    "\n",
    "df = pd.DataFrame(data)\n",
    "# Adjust display options to make sure all columns and values are fully displayed\n",
    "pd.set_option('display.max_columns', None)  # Show all columns\n",
    "pd.set_option('display.max_colwidth', None)  # Don't truncate column contents\n",
    "\n",
    "# Display the DataFrame\n",
    "print(df)  # Or just `df` in a Jupyter notebook\n"
   ]
  },
  {
   "cell_type": "code",
   "execution_count": null,
   "id": "a28ed66a-84db-4b0f-9d5c-dfd5e024f4b6",
   "metadata": {},
   "outputs": [],
   "source": []
  }
 ],
 "metadata": {
  "kernelspec": {
   "display_name": "Python 3 (ipykernel)",
   "language": "python",
   "name": "python3"
  },
  "language_info": {
   "codemirror_mode": {
    "name": "ipython",
    "version": 3
   },
   "file_extension": ".py",
   "mimetype": "text/x-python",
   "name": "python",
   "nbconvert_exporter": "python",
   "pygments_lexer": "ipython3",
   "version": "3.10.12"
  }
 },
 "nbformat": 4,
 "nbformat_minor": 5
}
