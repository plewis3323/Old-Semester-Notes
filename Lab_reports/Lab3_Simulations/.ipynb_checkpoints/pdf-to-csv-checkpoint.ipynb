{
 "cells": [
  {
   "cell_type": "code",
   "execution_count": 1,
   "id": "b93f9c37-e605-4f43-a5ef-1def95623884",
   "metadata": {},
   "outputs": [
    {
     "name": "stdout",
     "output_type": "stream",
     "text": [
      "Generated /home/plewis/ion.csv\n",
      "Generated /home/plewis/proton.csv\n",
      "Generated /home/plewis/gamma.csv\n"
     ]
    }
   ],
   "source": [
    "import os\n",
    "import fitz  # PyMuPDF\n",
    "import pandas as pd\n",
    "import re\n",
    "\n",
    "# Function to extract TNR values from PDF\n",
    "def extract_tnr_from_pdf(pdf_path):\n",
    "    tnr_values = []\n",
    "    with fitz.open(pdf_path) as pdf_file:\n",
    "        for page_num in range(pdf_file.page_count):\n",
    "            page = pdf_file[page_num]\n",
    "            text = page.get_text()\n",
    "            for line in text.splitlines():\n",
    "                # Adjust parsing if needed to match TNR values in the content\n",
    "                if \"TNR\" in line:\n",
    "                    tnr = parse_tnr(line)\n",
    "                    if tnr is not None:\n",
    "                        tnr_values.append(tnr)\n",
    "    return tnr_values\n",
    "\n",
    "# Helper function to parse a line for TNR value\n",
    "def parse_tnr(line):\n",
    "    try:\n",
    "        # Adjust parsing as per your specific TNR format in the PDF text\n",
    "        parts = line.split()\n",
    "        tnr = float(parts[-1])  # Assuming TNR is the last element in the line\n",
    "        return tnr\n",
    "    except (IndexError, ValueError):\n",
    "        return None\n",
    "\n",
    "# Main function to process PDF files and generate CSVs\n",
    "def process_pdf_directory(pdf_directory_path, output_directory_path):\n",
    "    all_data = {'ion': [], 'proton': [], 'gamma': []}\n",
    "    pattern = r\"G4_(proton|gamma|ion)_(\\d+)L\\.pdf\"  # Regex to match beam type and energy\n",
    "\n",
    "    # Iterate over PDF files in the directory\n",
    "    for filename in os.listdir(pdf_directory_path):\n",
    "        if filename.endswith('.pdf'):\n",
    "            match = re.match(pattern, filename)\n",
    "            if match:\n",
    "                beam_type, energy_str = match.groups()\n",
    "                energy = int(energy_str)  # Convert energy to integer\n",
    "                pdf_path = os.path.join(pdf_directory_path, filename)\n",
    "\n",
    "                # Extract TNR values from the PDF\n",
    "                tnr_values = extract_tnr_from_pdf(pdf_path)\n",
    "                for tnr in tnr_values:\n",
    "                    all_data[beam_type].append((energy, tnr))\n",
    "\n",
    "    # Ensure output directory exists\n",
    "    os.makedirs(output_directory_path, exist_ok=True)\n",
    "\n",
    "    # Create dataframes and write to CSV in the specified output directory\n",
    "    for beam_type in all_data:\n",
    "        df = pd.DataFrame(all_data[beam_type], columns=['Beam Energy (MeV)', 'TNR'])\n",
    "        csv_path = os.path.join(output_directory_path, f'{beam_type}.csv')\n",
    "        df.to_csv(csv_path, index=False)\n",
    "        print(f\"Generated {csv_path}\")\n",
    "\n",
    "# Run the main process\n",
    "pdf_directory_path = '/home/plewis/data/TNR_opt'  # Replace with your input PDF directory path\n",
    "output_directory_path = '/home/plewis'  # Replace with your output directory path\n",
    "process_pdf_directory(pdf_directory_path, output_directory_path)\n"
   ]
  },
  {
   "cell_type": "code",
   "execution_count": null,
   "id": "14d1308a-50f3-4109-a3e2-2349544c4bd2",
   "metadata": {},
   "outputs": [],
   "source": []
  }
 ],
 "metadata": {
  "kernelspec": {
   "display_name": "Python 3 (ipykernel)",
   "language": "python",
   "name": "python3"
  },
  "language_info": {
   "codemirror_mode": {
    "name": "ipython",
    "version": 3
   },
   "file_extension": ".py",
   "mimetype": "text/x-python",
   "name": "python",
   "nbconvert_exporter": "python",
   "pygments_lexer": "ipython3",
   "version": "3.10.12"
  }
 },
 "nbformat": 4,
 "nbformat_minor": 5
}
