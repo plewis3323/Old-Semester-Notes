{
 "cells": [
  {
   "cell_type": "markdown",
   "id": "68a4ba7d",
   "metadata": {},
   "source": [
    "# Getting Started with Python 3\n",
    "\n",
    "This is intended as an introduction to coding in the Python 3 language along with some of the more common additional packages used across many industries and disciplines. If you've never coded before in any language then coding can take some practice in order to make sense. On top of the basic rules and commands of each language, there are coding best practices to follow in order to make your code readable by others (or yourself in the future).\n",
    "\n",
    "To start, this is a Jupyter Notebook. It's one of several ways of interacting with the Python programming language. Other ways include the command line (command prompt in windows), Ipython, which is an interactive python shell from which you can write individual lines of code and execute as you go or run entire written programs, and integral development environments (IDEs) like Spyder or Eclipse which make more tools available to you for testing your programs. The distinct advantage of Jupyter Notebooks is that each cell (like this one) is run individually, so if you type a command incorrectly you know exactly where your program breaks and can fix it immediately.\n",
    "\n",
    "When coding it is also important to remember that the computer is doing exactly what you **tell** it, which may not be you want it to do. It can be important for you to play around with different commands to understand exactly what each does and how it interacts with your data.\n",
    "\n",
    "---\n",
    "\n",
    "In order to run code in a Jupyter Notebook you'll press **shift + enter**. Once you do, you'll see a number pop up next to the *In* on the left. This lets you know the order in which you've run the cells in your code. You can run each cell as many times as you like, but if you change anything in a previous cell, you'll need to run all of the code that depends on it afterwards for that update to take place. Try it on the code cell below."
   ]
  },
  {
   "cell_type": "code",
   "execution_count": null,
   "id": "c73cf5e8",
   "metadata": {},
   "outputs": [],
   "source": [
    "#First, this is a comment. You'll use these to document your code.\n",
    "#This is important for a number of reasons; maybe you want to remember what your code does in the future or you're giving\n",
    "#your code to someone else to read, maybe you need to remember what units a variable is in so your calculation runs correctly\n",
    "#on future data. "
   ]
  },
  {
   "cell_type": "markdown",
   "id": "b9a1d226",
   "metadata": {},
   "source": [
    "### Basic Commands and Variables\n",
    "\n",
    "As in any programming language, we need a way to have the computer show us a result or message. This is done in Python with the `print()` statement. The main piece of any command (or function) is going to be called the argument and will be denoted in the parentheses that follow a command. This is what is given to a command in order to do some task. In the case of `print()` the task is printing the argument out to the user. The print statement can take any variable as input. When giving a text input, place a ' or \" on either side."
   ]
  },
  {
   "cell_type": "code",
   "execution_count": null,
   "id": "02ec755a",
   "metadata": {},
   "outputs": [],
   "source": [
    "print('Hello World')"
   ]
  },
  {
   "cell_type": "code",
   "execution_count": null,
   "id": "40bbf4dd",
   "metadata": {},
   "outputs": [],
   "source": [
    "print(\"Hello World\")"
   ]
  },
  {
   "cell_type": "code",
   "execution_count": null,
   "id": "dd4acc68",
   "metadata": {},
   "outputs": [],
   "source": [
    "print(5)"
   ]
  },
  {
   "cell_type": "code",
   "execution_count": null,
   "id": "885e50af",
   "metadata": {},
   "outputs": [],
   "source": [
    "print(5*5)"
   ]
  },
  {
   "cell_type": "markdown",
   "id": "add2c8ba",
   "metadata": {},
   "source": [
    "This seems super simple, but it's also an incredible tool you'll use as long as you code. Whether you're making a code that needs to output useful information to a user, or trying to fix your code by determining what is inside of variables you'll always use `print()`. Feel free to try some of your own as well by changing the arguments of the print functions above and re-running the cell.\n",
    "\n",
    "Now, we need to talk about variables. You're probably used to variables as single letters to solve for in algebra. Here, we'll be giving our variables values. However, we need to be careful about what we want to do to each variable so that we set a correct type. The most common variable types you'll likely deal with in base Python are **integers, floats, strings, and lists**. The nice thing about Python compared to many other languages is that you do not need to specify the type ahead of time. Once you assign a value, it will pick the type. You can check the type by using the `type()` command.\n",
    "\n",
    "In order to assign a variable, we simply need to say `variable_name = value` where 'variable_name' is whatever name you want to give your variable, and 'value' is the assigned value. There are some general best practices to follow when naming a variable. In general, name it something descriptive and not just a single letter when you can. It is far easier to tell what a code does if each variable is descriptive (say position, velocity, acceleration) and not single letters (x, v, a, or x1, x2, x3). It is important to remember the order of this command as `variable = input` and not the other way around."
   ]
  },
  {
   "cell_type": "code",
   "execution_count": null,
   "id": "6f541ef6",
   "metadata": {},
   "outputs": [],
   "source": [
    "int_x = 2\n",
    "float_x = 2.0\n",
    "string_x = '2'\n",
    "print(int_x, float_x, string_x)"
   ]
  },
  {
   "cell_type": "markdown",
   "id": "610b12bd",
   "metadata": {},
   "source": [
    "All of those variable look the same when output, but when checking the type, we'll get different answers."
   ]
  },
  {
   "cell_type": "code",
   "execution_count": null,
   "id": "dff0a910",
   "metadata": {},
   "outputs": [],
   "source": [
    "print(type(int_x), type(float_x), type(string_x))"
   ]
  },
  {
   "cell_type": "markdown",
   "id": "c42f97ed",
   "metadata": {},
   "source": [
    "This means we can do different things with each. For example, we can do math with int and float, but not str (strings)."
   ]
  },
  {
   "cell_type": "code",
   "execution_count": null,
   "id": "23878a8f",
   "metadata": {},
   "outputs": [],
   "source": [
    "print(int_x+2)\n",
    "print(float_x+2)\n",
    "print(string_x+2)"
   ]
  },
  {
   "cell_type": "markdown",
   "id": "f8ca19fd",
   "metadata": {},
   "source": [
    "The error above is telling us we *can* use '+' with a string, but not to add a value. In this case it will concatenate, or add your new string onto your old one."
   ]
  },
  {
   "cell_type": "code",
   "execution_count": null,
   "id": "a42dc22b",
   "metadata": {},
   "outputs": [],
   "source": [
    "print(string_x+'2')"
   ]
  },
  {
   "cell_type": "markdown",
   "id": "631a5ae8",
   "metadata": {},
   "source": [
    "In addition we can do basic math with '+' as addition, '-' as subtraction, '\\*' as multiplication, and '/' as division as you might expect. Exponents can be given as 'number \\*\\* exponent.' One more useful operator in programming is the modulo operator '%'. This gives you the amount left over from dividing numbers, like the remainder you learned when doing division at first. It looks something like number, modulo, number, or ex: `5%3`. This should return 2."
   ]
  },
  {
   "cell_type": "code",
   "execution_count": null,
   "id": "8e7ee909",
   "metadata": {},
   "outputs": [],
   "source": [
    "5%3"
   ]
  },
  {
   "cell_type": "markdown",
   "id": "ee59f472",
   "metadata": {},
   "source": [
    "You can also change between data types by typing the name of the datatype you want to change to, followed by parentheses with the value to be changed."
   ]
  },
  {
   "cell_type": "code",
   "execution_count": null,
   "id": "ab7cc8d8",
   "metadata": {},
   "outputs": [],
   "source": [
    "int_x = 3\n",
    "print(type(int_x))\n",
    "int_x = str(int_x)\n",
    "print(type(int_x))"
   ]
  },
  {
   "cell_type": "markdown",
   "id": "670302d7",
   "metadata": {},
   "source": [
    "Another extremely useful variable type is the **Boolean**. This variable can only hold two distinct values `True` or `False`. While this might seem limited, much of the way you use or test your code will depend on setting conditions for certain variables. We'll use this type quite a bit when we talk about Control Flow below."
   ]
  },
  {
   "cell_type": "markdown",
   "id": "0c5ec124",
   "metadata": {},
   "source": [
    "The final variable we'll use regularly from base Python is the list. The list is just a collection of values. Lists accept variables of any type as input and can even be mixed. Be careful with this though since we know that we cannot manipulate numeric variables the same way we can text variables."
   ]
  },
  {
   "cell_type": "code",
   "execution_count": null,
   "id": "68e0652c",
   "metadata": {},
   "outputs": [],
   "source": [
    "list_x = [1,2,'3', True]\n",
    "print(list_x)"
   ]
  },
  {
   "cell_type": "markdown",
   "id": "84c392fb",
   "metadata": {},
   "source": [
    "Lists can be useful for holding collections of data like that which you might obtain in a laboratory class or during research. In order to access a particular value, you need to specify the **index** that you are accessing. A list can be indexed by using its name followed by a number in square brackets. These entries are **zero-indexed**, meaning counting starts at zero. That means that in inorder to obtain the first element you'll need `list_name[0]`."
   ]
  },
  {
   "cell_type": "code",
   "execution_count": null,
   "id": "da0a771f",
   "metadata": {},
   "outputs": [],
   "source": [
    "list_x = [1,2,'3', True, 15, 'a', 20, '0']\n",
    "print(list_x[4])"
   ]
  },
  {
   "cell_type": "markdown",
   "id": "4fcb2c42",
   "metadata": {},
   "source": [
    "You can also take a **slice** of a list by using a colon between two numbers. It will start at the first number and end at the element before the last number."
   ]
  },
  {
   "cell_type": "code",
   "execution_count": null,
   "id": "d23d4d61",
   "metadata": {},
   "outputs": [],
   "source": [
    "print(list_x[2:5])"
   ]
  },
  {
   "cell_type": "markdown",
   "id": "1ef71354",
   "metadata": {},
   "source": [
    "Finally, one problem with lists is that we cannot perform math on the entire list at one time. If we want to do this we require the use of loops, detailed below. Let's see what happens if we try."
   ]
  },
  {
   "cell_type": "code",
   "execution_count": null,
   "id": "dcdd5465",
   "metadata": {},
   "outputs": [],
   "source": [
    "print(list_x*2)"
   ]
  },
  {
   "cell_type": "markdown",
   "id": "b0000f89",
   "metadata": {},
   "source": [
    "We can see here that instead of doubling each value in our list, this just copied our list two times.\n",
    "\n",
    "---\n",
    "\n",
    "So, we've now seen the most useful data types that you'll encounter in Python. There are many others. You can even see that when we ask for the type, it tells us that they are *classes*. This means we could even make our own datatypes if we wanted to. In base Python you may also encounter tuples, dicts, ranges, and many others. They're not super useful for starting out in Python, but you can definitely make use of them in the future depending on what needs you might have."
   ]
  },
  {
   "cell_type": "markdown",
   "id": "c4bffd45",
   "metadata": {},
   "source": [
    "### Control Flow\n",
    "\n",
    "As we try to do more than just basic computations, we'll start to need to control which commands are run in our programs. We can do this with control flow. The basic pieces of control flow involve evaluating **boolean** statements using **if, else, and elif** along with comparison statements like less than, equals, and greater than. Let's look at each option below:\n",
    "- \\> Greater Than\n",
    "- \\>= Greater then or Equal to\n",
    "- == Equal to\n",
    "- <= Less than or Equal to\n",
    "- < Less than\n",
    "\n",
    "You'll likely remember these from your math courses, but these are how Python accepts these expressions. Let's try a few below."
   ]
  },
  {
   "cell_type": "code",
   "execution_count": null,
   "id": "caa945ab",
   "metadata": {},
   "outputs": [],
   "source": [
    "print(3>2)\n",
    "print(3>=4)\n",
    "print(10%3 == 0)\n",
    "print('True' == True)"
   ]
  },
  {
   "cell_type": "markdown",
   "id": "beed4aef",
   "metadata": {},
   "source": [
    "Combining these with **if/elif/else** we can create a sort of flow chart through the program. `if` works by checking *if* the statement that follows is True. If it is, then it executes the code underneath. `elif` (literally else if) can follow (but doesn't always have to), saying that if the first statement is False, check a following statement and if that one is true, run the code under the elif. Finally, `else` can end the statement (but again, doesn't have to) saying that the if the above statement(s) is (are) False, then run this code instead."
   ]
  },
  {
   "cell_type": "code",
   "execution_count": null,
   "id": "7bf17b1e",
   "metadata": {},
   "outputs": [],
   "source": [
    "x = 25\n",
    "if x%5 == 0:\n",
    "    print('divisible by 5')\n",
    "else:\n",
    "    print('not divisible by 5')"
   ]
  },
  {
   "cell_type": "markdown",
   "id": "15160d08",
   "metadata": {},
   "source": [
    "Now, you might notice something about how that block of code is written. Python has a very particular syntax that uses *whitespace* to denote when a piece of code belongs to the piece above it. Whitespace literally means a tab or several space characters in the code. Following each statement in the code we also place a colon. This lets Python know the statement (if/else in our case) is over and that it should run the code below it if True."
   ]
  },
  {
   "cell_type": "code",
   "execution_count": null,
   "id": "90eb408e",
   "metadata": {},
   "outputs": [],
   "source": [
    "x = 25\n",
    "if x%5 == 0:\n",
    "print('divisible by 5')\n",
    "else:\n",
    "print('not divisible by 5')"
   ]
  },
  {
   "cell_type": "markdown",
   "id": "f237db25",
   "metadata": {},
   "source": [
    "Not including the whitespace will give an error. Most programming languages don't care about whitespace as a functional piece of the code. However, it is always good practice to use it when organizing longer blocks of code to make it easier to read.\n",
    "\n",
    "Now we can also check multiple conditions at once using `and` and `or` or `&` and `|`. "
   ]
  },
  {
   "cell_type": "code",
   "execution_count": null,
   "id": "6c1cc7f1",
   "metadata": {},
   "outputs": [],
   "source": [
    "x = 25\n",
    "if (x%5 == 0) & (x%2==0):\n",
    "    print('divisible by 5 and 2')\n",
    "elif x%5==0:\n",
    "    print('divisible by 5, not 2')\n",
    "else:\n",
    "    print('not divisible by 5 or 2')"
   ]
  },
  {
   "cell_type": "markdown",
   "id": "aecaee35",
   "metadata": {},
   "source": [
    "This means we can create ever more complicated conditions for outputs or calculations in our codes. These may also be useful for selecting certain slices of our data."
   ]
  },
  {
   "cell_type": "markdown",
   "id": "ea0ec442",
   "metadata": {},
   "source": [
    "### Loops\n",
    "\n",
    "We can reduce the number of lines of our code by implementing looping in our data. You can imagine needing to do some calculation to every value in a list. This can take a while to do if we need to type each line individually and grows with the length of our data. Alternatively, we can take advantage of a loop to simplify this.\n",
    "\n",
    "There are two types of loops **for** and **while**. `for` is typically run in cases when we have a finite number of actions to perform, such as math on every index of a list. `while` is typically used when you need to run something an undetermined number of times. Perhaps this takes a user input to end the loop. `while` loops run the risk of being infinite if the condition to end the loop is never met. I'll give an example of the `for` loop below, but we likely won't have much use for `while` when beginning our data analysis."
   ]
  },
  {
   "cell_type": "code",
   "execution_count": null,
   "id": "57e3f708",
   "metadata": {},
   "outputs": [],
   "source": [
    "x = [1,2,3,4,5,6,7,8,9,10]\n",
    "for a in range(len(x)):\n",
    "    print(x[a]**2)"
   ]
  },
  {
   "cell_type": "markdown",
   "id": "feaacbbc",
   "metadata": {},
   "source": [
    "This code says for every value 'a' in range of 0 to the length (len) of our list x, print the square of index 'a' of x. This might sound a bit weird and complicated at first, so re-read that a few times while looking at the output of the code above. We can run any valid code in a loop like this. For example:"
   ]
  },
  {
   "cell_type": "code",
   "execution_count": null,
   "id": "7f7ddb5a",
   "metadata": {},
   "outputs": [],
   "source": [
    "for a in range(len(x)):\n",
    "    if (x[a]%5 == 0) & (x[a]%2==0):\n",
    "        print('divisible by 5 and 2')\n",
    "    elif x[a]%5==0:\n",
    "        print('divisible by 5, not 2')\n",
    "    else:\n",
    "        print('not divisible by 5 and 2')"
   ]
  },
  {
   "cell_type": "markdown",
   "id": "a82c1f64",
   "metadata": {},
   "source": [
    "I've also included two new functions that you'll use rather often with loops: range(), and len(). range() creates a list of values from 0 to your specified ending number, while len() returns the length of a given variable (typically lists or strings). You can see that there are many functions we haven't talked about in the Python documentation, but this can give you a good sense of how to use each of these [here](https://docs.python.org/3/library/functions.html#func-range)"
   ]
  },
  {
   "cell_type": "markdown",
   "id": "6cf0ca03",
   "metadata": {},
   "source": [
    "### Conclusion\n",
    "\n",
    "These are the basic pieces you would need from Python in order to do some basic manipulation of data. Many more comprehensive tutorials exit on the web such as [W3 schools](https://www.w3schools.com/python/default.asp) and [CodeAcademy](https://www.codecademy.com/learn/learn-python-3) which you can access for free. There is also a tutorial recommended to me by a former colleague [here](https://cs231n.github.io/python-numpy-tutorial/). Code Academy has a \"Pro track\" that you can pay for, but you can also just use the tutorial lessons to learn and skip quizzes and projects. In addition, if you want to practice skills [Hacker Rank](https://www.hackerrank.com/) and [Project Euler](https://projecteuler.net/) are good resources with unique problems. [Leetcode](https://leetcode.com/) is a combination of learning and practice that offers more developer (computer science/engineering) related problems and lessons.\n",
    "\n",
    "\n",
    "We'll take a look at three useful packages for python in the next notebook: math, numpy, and matplotlib."
   ]
  },
  {
   "cell_type": "code",
   "execution_count": null,
   "id": "db5fd46b",
   "metadata": {},
   "outputs": [],
   "source": []
  }
 ],
 "metadata": {
  "kernelspec": {
   "display_name": "Python 3",
   "language": "python",
   "name": "python3"
  },
  "language_info": {
   "codemirror_mode": {
    "name": "ipython",
    "version": 3
   },
   "file_extension": ".py",
   "mimetype": "text/x-python",
   "name": "python",
   "nbconvert_exporter": "python",
   "pygments_lexer": "ipython3",
   "version": "3.8.8"
  }
 },
 "nbformat": 4,
 "nbformat_minor": 5
}
