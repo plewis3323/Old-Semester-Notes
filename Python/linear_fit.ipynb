{
 "cells": [
  {
   "cell_type": "code",
   "execution_count": 9,
   "id": "7d2718d6",
   "metadata": {},
   "outputs": [],
   "source": [
    "import numpy as np\n",
    "from matplotlib import pyplot as plt"
   ]
  },
  {
   "cell_type": "code",
   "execution_count": 10,
   "id": "b27c474a",
   "metadata": {},
   "outputs": [],
   "source": [
    "x=np.array([0,1,2,3,4,5])\n",
    "y=np.array([0.92,4.15,9.78,14.46, 17.26, 21.90])\n",
    "sig=np.array([0.5,1.0,0.75,1.25,1.0,1.5])"
   ]
  },
  {
   "cell_type": "code",
   "execution_count": 11,
   "id": "a8acb66e",
   "metadata": {
    "scrolled": true
   },
   "outputs": [
    {
     "name": "stdout",
     "output_type": "stream",
     "text": [
      "best slope a=  4.23 +/-  0.21\n",
      "best intercept b=  0.88 +/-  0.45\n"
     ]
    },
    {
     "data": {
      "text/plain": [
       "Text(0.5, 0, 'measurement number')"
      ]
     },
     "execution_count": 11,
     "metadata": {},
     "output_type": "execute_result"
    },
    {
     "data": {
      "image/png": "[encoded data removed]",
      "text/plain": [
       "<Figure size 432x288 with 1 Axes>"
      ]
     },
     "metadata": {
      "needs_background": "light"
     },
     "output_type": "display_data"
    }
   ],
   "source": [
    "## this is the method to do the best fit we saw in class\n",
    "A=np.sum(x/sig**2)\n",
    "B=np.sum(1./sig**2)\n",
    "C=np.sum(y/sig**2)\n",
    "D=np.sum(x**2/sig**2)\n",
    "E=np.sum(x*y/sig**2)\n",
    "\n",
    "a=(E*B-C*A)/(D*B-A**2)\n",
    "b=(D*C-E*A)/(D*B-A**2)\n",
    "sig_a=np.sqrt((B/(D*B-A**2)))\n",
    "sig_b=np.sqrt(D/(D*B-A**2))\n",
    "\n",
    "print('best slope a= %5.2f' % a,'+/- %5.2f' % sig_a)\n",
    "print('best intercept b= %5.2f' %b, '+/- %5.2f' %sig_b)\n",
    "plt.figure(2)\n",
    "plt.plot(x,y,ls='none',marker='*')\n",
    "plt.errorbar(x,y,xerr=None, yerr=sig, fmt='none')\n",
    "y_linear=a*x+b\n",
    "plt.plot(x,y_linear,'r--')\n",
    "plt.ylabel('y')\n",
    "plt.xlabel('measurement number')\n",
    "\n",
    "##################\n",
    "## you could also use the method described in \n",
    "## https://faculty1.coloradocollege.edu/~sburns/LinearFitting/SimpleDataFittingWithError.html"
   ]
  },
  {
   "cell_type": "code",
   "execution_count": 21,
   "id": "e595a26a",
   "metadata": {},
   "outputs": [
    {
     "name": "stdout",
     "output_type": "stream",
     "text": [
      "[0.0016644  0.91420379 0.19974001 0.80997425 0.27767781 0.0129706 ]\n",
      "chi-quared=  2.22 \n",
      "reduced chi-squared= 0.55\n"
     ]
    }
   ],
   "source": [
    "# to see how good is the fit, one needs to compute the chi-squared\n",
    "chi_individual=((y-(a*x+b))/sig)**2\n",
    "print (chi_individual)\n",
    "chi_squared=np.sum(chi_individual)\n",
    "print('chi-quared= %5.2f ' % chi_squared)\n",
    "print('reduced chi-squared=%5.2f' %(chi_squared/(len(x)-2)))\n",
    "# you can go an compare this chi-squared to the table of chi-squared say in wikipedia. This value is very good \n",
    "# resulting in more 70% probability that these data are indeed linearly correlated"
   ]
  },
  {
   "cell_type": "code",
   "execution_count": 18,
   "id": "939e6313",
   "metadata": {},
   "outputs": [
    {
     "data": {
      "text/plain": [
       "Text(0.5, 0, 'measurement number')"
      ]
     },
     "execution_count": 18,
     "metadata": {},
     "output_type": "execute_result"
    },
    {
     "data": {
      "image/png": "[encoded data removed]",
      "text/plain": [
       "<Figure size 432x288 with 1 Axes>"
      ]
     },
     "metadata": {
      "needs_background": "light"
     },
     "output_type": "display_data"
    }
   ],
   "source": [
    "# now onto plotting the residuals\n",
    "y_res=y-(a*x+b)\n",
    "plt.figure(1)\n",
    "plt.plot(x,y_res,ls='none',marker='*')\n",
    "plt.errorbar(x,y_res,xerr=None, yerr=sig, fmt='none')\n",
    "zero=np.array([0,0,0,0,0,0])\n",
    "plt.plot(x,zero,'r--')\n",
    "plt.ylabel('residual')\n",
    "plt.xlabel('measurement number')"
   ]
  },
  {
   "cell_type": "code",
   "execution_count": null,
   "id": "e38f94ad",
   "metadata": {},
   "outputs": [],
   "source": []
  },
  {
   "cell_type": "code",
   "execution_count": null,
   "id": "273f138e",
   "metadata": {},
   "outputs": [],
   "source": []
  }
 ],
 "metadata": {
  "kernelspec": {
   "display_name": "Python 3 (ipykernel)",
   "language": "python",
   "name": "python3"
  },
  "language_info": {
   "codemirror_mode": {
    "name": "ipython",
    "version": 3
   },
   "file_extension": ".py",
   "mimetype": "text/x-python",
   "name": "python",
   "nbconvert_exporter": "python",
   "pygments_lexer": "ipython3",
   "version": "3.10.12"
  }
 },
 "nbformat": 4,
 "nbformat_minor": 5
}
